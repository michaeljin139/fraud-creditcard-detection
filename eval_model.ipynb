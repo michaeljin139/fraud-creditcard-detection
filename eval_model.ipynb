{
 "cells": [
  {
   "cell_type": "code",
   "execution_count": 18,
   "metadata": {},
   "outputs": [],
   "source": [
    "import pandas as pd\n",
    "\n",
    "from util import load_column_transformers, preprocess_data\n",
    "from alphagan_class import AlphaGAN\n",
    "\n",
    "import matplotlib.pyplot as plt\n",
    "\n",
    "import keras.backend as K\n",
    "import tensorflow as tf\n",
    "import numpy as np"
   ]
  },
  {
   "cell_type": "code",
   "execution_count": 27,
   "metadata": {},
   "outputs": [
    {
     "name": "stdout",
     "output_type": "stream",
     "text": [
      "Model: \"Discriminator\"\n",
      "_________________________________________________________________\n",
      "Layer (type)                 Output Shape              Param #   \n",
      "=================================================================\n",
      "dense_31 (Dense)             (None, 512)               15360     \n",
      "_________________________________________________________________\n",
      "leaky_re_lu_13 (LeakyReLU)   (None, 512)               0         \n",
      "_________________________________________________________________\n",
      "dense_32 (Dense)             (None, 256)               131328    \n",
      "_________________________________________________________________\n",
      "leaky_re_lu_14 (LeakyReLU)   (None, 256)               0         \n",
      "_________________________________________________________________\n",
      "dense_33 (Dense)             (None, 128)               32896     \n",
      "_________________________________________________________________\n",
      "leaky_re_lu_15 (LeakyReLU)   (None, 128)               0         \n",
      "_________________________________________________________________\n",
      "dense_34 (Dense)             (None, 1)                 129       \n",
      "=================================================================\n",
      "Total params: 179,713\n",
      "Trainable params: 179,713\n",
      "Non-trainable params: 0\n",
      "_________________________________________________________________\n",
      "Model: \"CodeDiscriminator\"\n",
      "_________________________________________________________________\n",
      "Layer (type)                 Output Shape              Param #   \n",
      "=================================================================\n",
      "dense_35 (Dense)             (None, 512)               8704      \n",
      "_________________________________________________________________\n",
      "leaky_re_lu_16 (LeakyReLU)   (None, 512)               0         \n",
      "_________________________________________________________________\n",
      "dense_36 (Dense)             (None, 256)               131328    \n",
      "_________________________________________________________________\n",
      "leaky_re_lu_17 (LeakyReLU)   (None, 256)               0         \n",
      "_________________________________________________________________\n",
      "dense_37 (Dense)             (None, 128)               32896     \n",
      "_________________________________________________________________\n",
      "leaky_re_lu_18 (LeakyReLU)   (None, 128)               0         \n",
      "_________________________________________________________________\n",
      "dense_38 (Dense)             (None, 1)                 129       \n",
      "=================================================================\n",
      "Total params: 173,057\n",
      "Trainable params: 173,057\n",
      "Non-trainable params: 0\n",
      "_________________________________________________________________\n",
      "Model: \"Generator\"\n",
      "_________________________________________________________________\n",
      "Layer (type)                 Output Shape              Param #   \n",
      "=================================================================\n",
      "dense_39 (Dense)             (None, 128)               2176      \n",
      "_________________________________________________________________\n",
      "re_lu_11 (ReLU)              (None, 128)               0         \n",
      "_________________________________________________________________\n",
      "dense_40 (Dense)             (None, 256)               33024     \n",
      "_________________________________________________________________\n",
      "re_lu_12 (ReLU)              (None, 256)               0         \n",
      "_________________________________________________________________\n",
      "dense_41 (Dense)             (None, 512)               131584    \n",
      "_________________________________________________________________\n",
      "re_lu_13 (ReLU)              (None, 512)               0         \n",
      "_________________________________________________________________\n",
      "dense_42 (Dense)             (None, 29)                14877     \n",
      "_________________________________________________________________\n",
      "activation_5 (Activation)    (None, 29)                0         \n",
      "=================================================================\n",
      "Total params: 181,661\n",
      "Trainable params: 181,661\n",
      "Non-trainable params: 0\n",
      "_________________________________________________________________\n",
      "Model: \"Encoder\"\n",
      "_________________________________________________________________\n",
      "Layer (type)                 Output Shape              Param #   \n",
      "=================================================================\n",
      "dense_43 (Dense)             (None, 256)               7680      \n",
      "_________________________________________________________________\n",
      "re_lu_14 (ReLU)              (None, 256)               0         \n",
      "_________________________________________________________________\n",
      "dense_44 (Dense)             (None, 128)               32896     \n",
      "_________________________________________________________________\n",
      "re_lu_15 (ReLU)              (None, 128)               0         \n",
      "_________________________________________________________________\n",
      "dense_45 (Dense)             (None, 16)                2064      \n",
      "_________________________________________________________________\n",
      "activation_6 (Activation)    (None, 16)                0         \n",
      "=================================================================\n",
      "Total params: 42,640\n",
      "Trainable params: 42,640\n",
      "Non-trainable params: 0\n",
      "_________________________________________________________________\n"
     ]
    }
   ],
   "source": [
    "ag = AlphaGAN()\n",
    "ag.load_pretrained_models('./snapshots/3900_')\n",
    "\n",
    "test_normal_df = pd.read_csv('./data/test_set_normal.csv')\n",
    "preprocess_data(test_normal_df, './data/ranges.csv')\n",
    "\n",
    "test_abnomal_df = pd.read_csv('./data/test_set_abnomal.csv')\n",
    "preprocess_data(test_abnomal_df, './data/ranges.csv')"
   ]
  },
  {
   "cell_type": "code",
   "execution_count": 28,
   "metadata": {},
   "outputs": [],
   "source": [
    "X_1 = test_normal_df.to_numpy()\n",
    "X_2 = test_abnomal_df.to_numpy()\n",
    "\n",
    "Z_hat_1 = ag.encoder.predict(X_1)\n",
    "X_hat_1 = ag.generator.predict(Z_hat_1)\n",
    "\n",
    "Z_hat_2 = ag.encoder.predict(X_2)\n",
    "X_hat_2 = ag.generator.predict(Z_hat_2)\n",
    "\n",
    "rec_losses_normal = np.linalg.norm(np.subtract(X_1, X_hat_1), axis=1)\n",
    "rec_losses_fraud = np.linalg.norm(np.subtract(X_2, X_hat_2), axis=1)"
   ]
  },
  {
   "cell_type": "code",
   "execution_count": 36,
   "metadata": {},
   "outputs": [],
   "source": [
    "thresholds = [t for t in np.arange(7.0,12.0,0.01)]"
   ]
  },
  {
   "cell_type": "code",
   "execution_count": 37,
   "metadata": {},
   "outputs": [],
   "source": [
    "test_num = len(rec_losses_normal) + len(rec_losses_fraud)"
   ]
  },
  {
   "cell_type": "code",
   "execution_count": 38,
   "metadata": {},
   "outputs": [],
   "source": [
    "normal_accuracies = []\n",
    "for T in thresholds:\n",
    "    rec_losses_correct = [loss for loss in rec_losses_normal if loss < T]\n",
    "    normal_accuracies.append(len(rec_losses_correct) / len(rec_losses_normal))\n",
    "\n",
    "fraud_accuracies = []\n",
    "for T in thresholds:\n",
    "    rec_losses_correct = [loss for loss in rec_losses_fraud if loss > T]\n",
    "    fraud_accuracies.append(len(rec_losses_correct) / len(rec_losses_fraud))"
   ]
  },
  {
   "cell_type": "code",
   "execution_count": 39,
   "metadata": {},
   "outputs": [
    {
     "data": {
      "image/png": "[encoded data removed]",
      "text/plain": [
       "<Figure size 432x288 with 1 Axes>"
      ]
     },
     "metadata": {
      "needs_background": "light"
     },
     "output_type": "display_data"
    }
   ],
   "source": [
    "plt.plot(thresholds, normal_accuracies)\n",
    "plt.plot(thresholds, fraud_accuracies)\n",
    "plt.title('model loss')\n",
    "plt.ylabel('Fraud')\n",
    "plt.xlabel('Thresholds')\n",
    "plt.legend(['Fraud', 'Normal'], loc='upper right');"
   ]
  },
  {
   "cell_type": "code",
   "execution_count": null,
   "metadata": {},
   "outputs": [],
   "source": []
  }
 ],
 "metadata": {
  "kernelspec": {
   "display_name": "Python 3",
   "language": "python",
   "name": "python3"
  },
  "language_info": {
   "codemirror_mode": {
    "name": "ipython",
    "version": 3
   },
   "file_extension": ".py",
   "mimetype": "text/x-python",
   "name": "python",
   "nbconvert_exporter": "python",
   "pygments_lexer": "ipython3",
   "version": "3.6.8"
  }
 },
 "nbformat": 4,
 "nbformat_minor": 2
}
